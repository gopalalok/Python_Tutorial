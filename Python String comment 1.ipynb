{
 "cells": [
  {
   "cell_type": "code",
   "execution_count": 1,
   "metadata": {},
   "outputs": [
    {
     "name": "stdout",
     "output_type": "stream",
     "text": [
      "Hello 'i am' Gopal das\n"
     ]
    }
   ],
   "source": [
    "print(\"Hello 'i am' Gopal das\")"
   ]
  },
  {
   "cell_type": "code",
   "execution_count": 2,
   "metadata": {},
   "outputs": [
    {
     "name": "stdout",
     "output_type": "stream",
     "text": [
      "Hello \" i am\" Gopal das\n"
     ]
    }
   ],
   "source": [
    "print(\"Hello \\\" i am\\\" Gopal das\")"
   ]
  },
  {
   "cell_type": "code",
   "execution_count": 3,
   "metadata": {},
   "outputs": [
    {
     "name": "stdout",
     "output_type": "stream",
     "text": [
      "Hello i'm Gopal das\n"
     ]
    }
   ],
   "source": [
    "print(\"Hello i\\'m Gopal das\")"
   ]
  },
  {
   "cell_type": "code",
   "execution_count": 4,
   "metadata": {},
   "outputs": [
    {
     "name": "stdout",
     "output_type": "stream",
     "text": [
      "Hello i'm Gopal das\\\n"
     ]
    }
   ],
   "source": [
    "print(\"Hello i\\'m Gopal das\\\\\")"
   ]
  },
  {
   "cell_type": "code",
   "execution_count": 5,
   "metadata": {},
   "outputs": [
    {
     "name": "stdout",
     "output_type": "stream",
     "text": [
      "Hello i'm Gopal das\\\\\n"
     ]
    }
   ],
   "source": [
    "print(\"Hello i\\'m Gopal das\\\\\\\\\")"
   ]
  },
  {
   "cell_type": "code",
   "execution_count": 6,
   "metadata": {},
   "outputs": [
    {
     "name": "stdout",
     "output_type": "stream",
     "text": [
      "Hello i'm Goo\bpal das\n"
     ]
    }
   ],
   "source": [
    "#backslash\n",
    "print(\"Hello i\\'m Goo\\bpal das\")"
   ]
  },
  {
   "cell_type": "markdown",
   "metadata": {},
   "source": [
    "### Escape Sequence as Normal Text "
   ]
  },
  {
   "cell_type": "code",
   "execution_count": 7,
   "metadata": {},
   "outputs": [
    {
     "name": "stdout",
     "output_type": "stream",
     "text": [
      "Hello \\n i'm Gopal das\n"
     ]
    }
   ],
   "source": [
    "print(\"Hello \\\\n i\\'m Gopal das\")"
   ]
  },
  {
   "cell_type": "code",
   "execution_count": 8,
   "metadata": {},
   "outputs": [
    {
     "name": "stdout",
     "output_type": "stream",
     "text": [
      "Hello \\t i'm Gopal das\n"
     ]
    }
   ],
   "source": [
    "print(\"Hello \\\\t i\\'m Gopal das\")"
   ]
  },
  {
   "cell_type": "markdown",
   "metadata": {},
   "source": [
    "### Raw String"
   ]
  },
  {
   "cell_type": "code",
   "execution_count": 9,
   "metadata": {},
   "outputs": [
    {
     "name": "stdout",
     "output_type": "stream",
     "text": [
      "Hello  i\\'m Gopal das\n"
     ]
    }
   ],
   "source": [
    "print(r\"Hello  i\\'m Gopal das\")"
   ]
  },
  {
   "cell_type": "markdown",
   "metadata": {},
   "source": [
    "### Print emoji  "
   ]
  },
  {
   "cell_type": "code",
   "execution_count": 10,
   "metadata": {},
   "outputs": [
    {
     "name": "stdout",
     "output_type": "stream",
     "text": [
      "😝\n"
     ]
    }
   ],
   "source": [
    "print(\"\\U0001F61D\")"
   ]
  },
  {
   "cell_type": "code",
   "execution_count": 11,
   "metadata": {},
   "outputs": [
    {
     "name": "stdout",
     "output_type": "stream",
     "text": [
      "😆\n"
     ]
    }
   ],
   "source": [
    "print(\"\\U0001F606\")"
   ]
  },
  {
   "cell_type": "markdown",
   "metadata": {},
   "source": [
    "### String Concatenation "
   ]
  },
  {
   "cell_type": "code",
   "execution_count": 12,
   "metadata": {},
   "outputs": [
    {
     "name": "stdout",
     "output_type": "stream",
     "text": [
      "Gopal Das Gopal Das Gopal Das Gopal Das Gopal Das \n"
     ]
    }
   ],
   "source": [
    "name = \"Gopal Das \"\n",
    "print(name*5)"
   ]
  },
  {
   "cell_type": "markdown",
   "metadata": {},
   "source": [
    "### User Input "
   ]
  },
  {
   "cell_type": "code",
   "execution_count": 13,
   "metadata": {},
   "outputs": [
    {
     "name": "stdout",
     "output_type": "stream",
     "text": [
      "Type your name:Gopal Das\n",
      "Hello Gopal Das\n"
     ]
    }
   ],
   "source": [
    "name = input(\"Type your name:\")\n",
    "print(\"Hello \"+name)"
   ]
  },
  {
   "cell_type": "markdown",
   "metadata": {},
   "source": [
    "### Int() function "
   ]
  },
  {
   "cell_type": "code",
   "execution_count": 14,
   "metadata": {},
   "outputs": [
    {
     "name": "stdout",
     "output_type": "stream",
     "text": [
      "Enter a number : 4\n",
      "Enter another number : 5\n",
      "Sum = 9\n"
     ]
    }
   ],
   "source": [
    "one = int(input(\"Enter a number : \"))\n",
    "two = int(input(\"Enter another number : \"))\n",
    "three = one + two\n",
    "print(\"Sum = \" + str(three))"
   ]
  },
  {
   "cell_type": "markdown",
   "metadata": {},
   "source": [
    "### More about variables "
   ]
  },
  {
   "cell_type": "code",
   "execution_count": 15,
   "metadata": {},
   "outputs": [
    {
     "name": "stdout",
     "output_type": "stream",
     "text": [
      "Hello Gopal Das , Age is 22\n"
     ]
    }
   ],
   "source": [
    "name,age = \"Gopal Das \",\"22\"\n",
    "print(\"Hello \"+name+\",\"+\" Age is \"+age)"
   ]
  },
  {
   "cell_type": "markdown",
   "metadata": {},
   "source": [
    "### Two or more input in one line "
   ]
  },
  {
   "cell_type": "code",
   "execution_count": 16,
   "metadata": {},
   "outputs": [
    {
     "name": "stdout",
     "output_type": "stream",
     "text": [
      "Enter your name and age keep space: Gopal 5\n",
      "Gopal\n",
      "5\n"
     ]
    }
   ],
   "source": [
    "name,age = input(\"Enter your name and age keep space: \").split()\n",
    "print(name)\n",
    "print(age)"
   ]
  },
  {
   "cell_type": "code",
   "execution_count": 17,
   "metadata": {},
   "outputs": [
    {
     "name": "stdout",
     "output_type": "stream",
     "text": [
      "Enter your name and age keep ,: Gopal Das, 23\n",
      "Gopal Das\n",
      " 23\n"
     ]
    }
   ],
   "source": [
    "name,age = input(\"Enter your name and age keep ,: \").split(\",\")\n",
    "print(name)\n",
    "print(age)"
   ]
  },
  {
   "cell_type": "markdown",
   "metadata": {},
   "source": [
    "### String formatting "
   ]
  },
  {
   "cell_type": "code",
   "execution_count": 18,
   "metadata": {},
   "outputs": [
    {
     "name": "stdout",
     "output_type": "stream",
     "text": [
      "Hello Gopal your age is 22\n"
     ]
    }
   ],
   "source": [
    "name=\"Gopal\"\n",
    "age=22\n",
    "print(\"Hello {} your age is {}\".format(name,age))"
   ]
  },
  {
   "cell_type": "code",
   "execution_count": 19,
   "metadata": {},
   "outputs": [
    {
     "name": "stdout",
     "output_type": "stream",
     "text": [
      "Hello Gopal your age is 22\n"
     ]
    }
   ],
   "source": [
    "name=\"Gopal\"\n",
    "age=22\n",
    "print(f\"Hello {name} your age is {age}\")"
   ]
  },
  {
   "cell_type": "markdown",
   "metadata": {},
   "source": [
    "### String Indexing "
   ]
  },
  {
   "cell_type": "code",
   "execution_count": 20,
   "metadata": {},
   "outputs": [
    {
     "name": "stdout",
     "output_type": "stream",
     "text": [
      "t\n",
      "n\n"
     ]
    }
   ],
   "source": [
    "language = \"python\"\n",
    "print(language[2])\n",
    "print(language[-1])"
   ]
  },
  {
   "cell_type": "markdown",
   "metadata": {},
   "source": [
    "### String Slicing "
   ]
  },
  {
   "cell_type": "code",
   "execution_count": 21,
   "metadata": {},
   "outputs": [
    {
     "name": "stdout",
     "output_type": "stream",
     "text": [
      "hon\n",
      "hon\n",
      "thon\n",
      "pytho\n"
     ]
    }
   ],
   "source": [
    "language = \"python\"\n",
    "print(language[3:6])\n",
    "print(language[-3:6])\n",
    "print(language[2:])\n",
    "print(language[:5])"
   ]
  },
  {
   "cell_type": "markdown",
   "metadata": {},
   "source": [
    "### Step Argument"
   ]
  },
  {
   "cell_type": "code",
   "execution_count": 22,
   "metadata": {},
   "outputs": [
    {
     "name": "stdout",
     "output_type": "stream",
     "text": [
      "pto\n",
      "nhy\n",
      "python\n",
      "nohtyp\n"
     ]
    }
   ],
   "source": [
    "language = \"python\"\n",
    "print(language[::2])\n",
    "print(language[::-2])\n",
    "print(language[::1])\n",
    "print(language[::-1])"
   ]
  },
  {
   "cell_type": "code",
   "execution_count": 23,
   "metadata": {},
   "outputs": [
    {
     "name": "stdout",
     "output_type": "stream",
     "text": [
      "Enter your name :Python\n",
      "Reverse of your name is nohtyP \n"
     ]
    }
   ],
   "source": [
    "name = input(\"Enter your name :\")\n",
    "print(f\"Reverse of your name is {name[::-1]} \")"
   ]
  },
  {
   "cell_type": "markdown",
   "metadata": {},
   "source": [
    "### String Methods "
   ]
  },
  {
   "cell_type": "code",
   "execution_count": 24,
   "metadata": {},
   "outputs": [
    {
     "name": "stdout",
     "output_type": "stream",
     "text": [
      "9\n",
      "gopal das\n",
      "GOPAL DAS\n",
      "Gopal Das\n",
      "2\n"
     ]
    }
   ],
   "source": [
    "name = \"Gopal Das\"\n",
    "print(len(name))\n",
    "print(name.lower())\n",
    "print(name.upper())\n",
    "print(name.title())\n",
    "print(name.count(\"a\"))"
   ]
  },
  {
   "cell_type": "markdown",
   "metadata": {},
   "source": [
    "### Solve problem with spaces using strip method "
   ]
  },
  {
   "cell_type": "code",
   "execution_count": 25,
   "metadata": {},
   "outputs": [
    {
     "name": "stdout",
     "output_type": "stream",
     "text": [
      "   Gopal Das  ................\n"
     ]
    }
   ],
   "source": [
    "name = \"   Gopal Das  \"\n",
    "dots = \"................\"\n",
    "print(name+dots)"
   ]
  },
  {
   "cell_type": "code",
   "execution_count": 26,
   "metadata": {},
   "outputs": [
    {
     "name": "stdout",
     "output_type": "stream",
     "text": [
      "Gopal Das  ................\n"
     ]
    }
   ],
   "source": [
    "print(name.lstrip()+dots)"
   ]
  },
  {
   "cell_type": "code",
   "execution_count": 27,
   "metadata": {},
   "outputs": [
    {
     "name": "stdout",
     "output_type": "stream",
     "text": [
      "   Gopal Das................\n"
     ]
    }
   ],
   "source": [
    "print(name.rstrip()+dots)"
   ]
  },
  {
   "cell_type": "code",
   "execution_count": 28,
   "metadata": {},
   "outputs": [
    {
     "name": "stdout",
     "output_type": "stream",
     "text": [
      "Gopal Das................\n"
     ]
    }
   ],
   "source": [
    "print(name.strip()+dots)"
   ]
  },
  {
   "cell_type": "code",
   "execution_count": 29,
   "metadata": {},
   "outputs": [
    {
     "name": "stdout",
     "output_type": "stream",
     "text": [
      "GopalDas\n"
     ]
    }
   ],
   "source": [
    "print(name.replace(\" \",\"\"))"
   ]
  },
  {
   "cell_type": "code",
   "execution_count": 30,
   "metadata": {},
   "outputs": [
    {
     "name": "stdout",
     "output_type": "stream",
     "text": [
      "Enter your name separted by comma: Gopal Das , a\n",
      "length of your name is: 10\n",
      "character count:2\n"
     ]
    }
   ],
   "source": [
    "name,char = input(\"Enter your name separted by comma: \").split(\",\")\n",
    "print(f\"length of your name is: {len(name)}\")\n",
    "print(f\"character count:{name.strip().lower().count(char.strip().lower())}\")"
   ]
  },
  {
   "cell_type": "markdown",
   "metadata": {},
   "source": [
    "### Find and Replace Method "
   ]
  },
  {
   "cell_type": "code",
   "execution_count": 31,
   "metadata": {},
   "outputs": [
    {
     "name": "stdout",
     "output_type": "stream",
     "text": [
      "He was good programmer\n",
      "3\n"
     ]
    }
   ],
   "source": [
    "string = \"He is good programmer\"\n",
    "print(string.replace(\"is\",\"was\",1))\n",
    "print(string.find(\"is\",2))"
   ]
  },
  {
   "cell_type": "markdown",
   "metadata": {},
   "source": [
    "### Center Method "
   ]
  },
  {
   "cell_type": "code",
   "execution_count": 32,
   "metadata": {},
   "outputs": [
    {
     "name": "stdout",
     "output_type": "stream",
     "text": [
      "*Python*\n",
      "**Python**\n"
     ]
    }
   ],
   "source": [
    "S = \"Python\"\n",
    "print(S.center(8,\"*\"))\n",
    "print(S.center(10,\"*\"))"
   ]
  },
  {
   "cell_type": "code",
   "execution_count": 33,
   "metadata": {},
   "outputs": [
    {
     "name": "stdout",
     "output_type": "stream",
     "text": [
      "Enetr your name: Gopal Das\n",
      "****Gopal Das****\n"
     ]
    }
   ],
   "source": [
    "name = input(\"Enetr your name: \")\n",
    "print(name.center(len(name)+8,\"*\"))"
   ]
  },
  {
   "cell_type": "markdown",
   "metadata": {},
   "source": [
    "### Strings are Immutable"
   ]
  },
  {
   "cell_type": "code",
   "execution_count": 34,
   "metadata": {},
   "outputs": [
    {
     "name": "stdout",
     "output_type": "stream",
     "text": [
      "Python\n"
     ]
    }
   ],
   "source": [
    "S = \"Python\"\n",
    "S.replace(\"t\",\"T\")\n",
    "print(S)"
   ]
  },
  {
   "cell_type": "markdown",
   "metadata": {},
   "source": [
    "### Pass statement "
   ]
  },
  {
   "cell_type": "code",
   "execution_count": 35,
   "metadata": {},
   "outputs": [],
   "source": [
    "x = 18\n",
    "if x>18:\n",
    "    pass"
   ]
  },
  {
   "cell_type": "markdown",
   "metadata": {},
   "source": [
    "### If-else statement  "
   ]
  },
  {
   "cell_type": "code",
   "execution_count": 36,
   "metadata": {},
   "outputs": [
    {
     "name": "stdout",
     "output_type": "stream",
     "text": [
      "Enter a number: 45\n",
      "Too Low\n"
     ]
    }
   ],
   "source": [
    "wining_number = 50\n",
    "user_input = input(\"Enter a number: \")\n",
    "user_input = int(user_input)\n",
    "if wining_number == user_input:\n",
    "    print(\"You Win !\")\n",
    "else:\n",
    "    if wining_number > user_input:\n",
    "        print(\"Too Low\")\n",
    "    else:\n",
    "        print(\"Too High\")"
   ]
  },
  {
   "cell_type": "markdown",
   "metadata": {},
   "source": [
    "### in keyword "
   ]
  },
  {
   "cell_type": "code",
   "execution_count": 37,
   "metadata": {},
   "outputs": [
    {
     "name": "stdout",
     "output_type": "stream",
     "text": [
      "D is present in name\n"
     ]
    }
   ],
   "source": [
    "name = \"Gopal Das\"\n",
    "if 'D' in name:\n",
    "    print(\"D is present in name\")\n",
    "else:\n",
    "    print(\"D is not present\")"
   ]
  },
  {
   "cell_type": "markdown",
   "metadata": {},
   "source": [
    "### Check Empty or Not  "
   ]
  },
  {
   "cell_type": "code",
   "execution_count": 38,
   "metadata": {},
   "outputs": [
    {
     "name": "stdout",
     "output_type": "stream",
     "text": [
      "Enter your name: Gopal Das\n",
      "Your name is Gopal Das\n"
     ]
    }
   ],
   "source": [
    "name = input(\"Enter your name: \")\n",
    "if name:\n",
    "    print(f\"Your name is {name}\")\n",
    "else:\n",
    "    print(\"Enter anything\")"
   ]
  },
  {
   "cell_type": "markdown",
   "metadata": {},
   "source": [
    "### Add number of digit"
   ]
  },
  {
   "cell_type": "code",
   "execution_count": 39,
   "metadata": {},
   "outputs": [
    {
     "name": "stdout",
     "output_type": "stream",
     "text": [
      "Enter a number: 45\n",
      "9\n"
     ]
    }
   ],
   "source": [
    "number = input(\"Enter a number: \")\n",
    "i=0\n",
    "sum=0\n",
    "while i<len(number):\n",
    "    sum = sum+int(number[i])\n",
    "    i += 1\n",
    "print(sum)"
   ]
  },
  {
   "cell_type": "code",
   "execution_count": 43,
   "metadata": {},
   "outputs": [
    {
     "name": "stdout",
     "output_type": "stream",
     "text": [
      "Enter something:Gopal Das\n",
      "G : 1\n",
      "o : 1\n",
      "p : 1\n",
      "a : 2\n",
      "l : 1\n",
      "  : 1\n",
      "D : 1\n",
      "s : 1\n"
     ]
    }
   ],
   "source": [
    "user_input = input(\"Enter something:\")\n",
    "temp_var = \"\"\n",
    "i=0\n",
    "while i<len(user_input):\n",
    "    if user_input[i] not in temp_var:\n",
    "        temp_var += user_input[i]\n",
    "        print(f\"{user_input[i]} : {user_input.count(user_input[i])}\")\n",
    "    i += 1"
   ]
  },
  {
   "cell_type": "markdown",
   "metadata": {},
   "source": [
    "### For Loop"
   ]
  },
  {
   "cell_type": "code",
   "execution_count": 44,
   "metadata": {},
   "outputs": [
    {
     "name": "stdout",
     "output_type": "stream",
     "text": [
      "1\n",
      "2\n",
      "3\n",
      "4\n",
      "5\n",
      "6\n",
      "7\n",
      "8\n",
      "9\n",
      "10\n"
     ]
    }
   ],
   "source": [
    "for i in range(1,11):\n",
    "    print(i)\n",
    "    i += 1"
   ]
  },
  {
   "cell_type": "code",
   "execution_count": 52,
   "metadata": {},
   "outputs": [
    {
     "name": "stdout",
     "output_type": "stream",
     "text": [
      "Enter a number: 66\n",
      "Too High\n",
      "Enter a number: 34\n",
      "Too Low\n",
      "Enter a number: 12\n",
      "Too Low\n",
      "Enter a number: 65\n",
      "You Win! you guessed this number in 4 times\n"
     ]
    }
   ],
   "source": [
    "winning_number = 65\n",
    "user_input = int(input(\"Enter a number: \"))\n",
    "guess = 1\n",
    "game_over = False\n",
    "while not game_over:\n",
    "    if user_input == winning_number:\n",
    "        print(f\"You Win! you guessed this number in {guess} times\")\n",
    "        game_over = True\n",
    "    else:\n",
    "        if user_input > winning_number:\n",
    "            print(\"Too High\")\n",
    "            guess += 1\n",
    "            user_input = int(input(\"Enter a number: \"))\n",
    "        else:\n",
    "            print(\"Too Low\")\n",
    "            guess += 1\n",
    "            user_input = int(input(\"Enter a number: \"))\n",
    "            "
   ]
  },
  {
   "cell_type": "code",
   "execution_count": 1,
   "metadata": {},
   "outputs": [
    {
     "name": "stdout",
     "output_type": "stream",
     "text": [
      "enter your name:Gopal Das\n",
      "G:1\n",
      "o:1\n",
      "p:1\n",
      "a:2\n",
      "l:1\n",
      " :1\n",
      "D:1\n",
      "s:1\n"
     ]
    }
   ],
   "source": [
    "name = input(\"enter your name:\")\n",
    "temp=\"\"\n",
    "for i in range(len(name)):\n",
    "    if name[i] not in temp:\n",
    "        print(f\"{name[i]}:{name.count(name[i])}\" )\n",
    "        temp += name[i]"
   ]
  },
  {
   "cell_type": "markdown",
   "metadata": {},
   "source": [
    "#### Add number of input"
   ]
  },
  {
   "cell_type": "code",
   "execution_count": 4,
   "metadata": {},
   "outputs": [
    {
     "name": "stdout",
     "output_type": "stream",
     "text": [
      "enter a number:167\n",
      "14\n"
     ]
    }
   ],
   "source": [
    "number=input(\"enter a number:\")\n",
    "total=0\n",
    "for i in number:\n",
    "    total += int(i)\n",
    "print(total)"
   ]
  },
  {
   "cell_type": "markdown",
   "metadata": {},
   "source": [
    "### Function inside function"
   ]
  },
  {
   "cell_type": "code",
   "execution_count": 7,
   "metadata": {},
   "outputs": [
    {
     "name": "stdout",
     "output_type": "stream",
     "text": [
      "20\n"
     ]
    }
   ],
   "source": [
    "def greatest(a,b):\n",
    "    if a>b:\n",
    "        return a\n",
    "    else:\n",
    "        return b\n",
    "    \n",
    "def new_greatest(a,b,c):\n",
    "    return greatest(greatest(a,b),c)\n",
    "    \n",
    "print(new_greatest(10,5,20))"
   ]
  },
  {
   "cell_type": "markdown",
   "metadata": {},
   "source": [
    "### Palindrome"
   ]
  },
  {
   "cell_type": "code",
   "execution_count": 11,
   "metadata": {},
   "outputs": [
    {
     "name": "stdout",
     "output_type": "stream",
     "text": [
      "False\n",
      "True\n"
     ]
    }
   ],
   "source": [
    "def palindrome(name):\n",
    "    if name == name[::-1]:\n",
    "        return True\n",
    "    return False\n",
    "\n",
    "print(palindrome(\"Gopal\"))\n",
    "print(palindrome(\"naman\"))"
   ]
  },
  {
   "cell_type": "markdown",
   "metadata": {},
   "source": [
    "### Fibonacci series "
   ]
  },
  {
   "cell_type": "code",
   "execution_count": 16,
   "metadata": {},
   "outputs": [
    {
     "name": "stdout",
     "output_type": "stream",
     "text": [
      "0 1 1 2 3 5 8 13 21 34 "
     ]
    }
   ],
   "source": [
    "def fibonacci_series(num):\n",
    "    a=0\n",
    "    b=1\n",
    "    if num==1:\n",
    "        print(a)\n",
    "    elif num==2:\n",
    "        print (a,b,end=\" \")\n",
    "    else:\n",
    "        print(a,b,end=\" \")\n",
    "        for i in range(num-2):\n",
    "            c = a+b\n",
    "            a = b\n",
    "            b = c\n",
    "            print(c,end=\" \") \n",
    "            \n",
    "fibonacci_series(10)"
   ]
  },
  {
   "cell_type": "markdown",
   "metadata": {},
   "source": [
    "## Regular Expression"
   ]
  },
  {
   "cell_type": "markdown",
   "metadata": {},
   "source": [
    "#### To search the pattern \"Air\" in the given string\"Airline\""
   ]
  },
  {
   "cell_type": "code",
   "execution_count": 1,
   "metadata": {},
   "outputs": [
    {
     "name": "stdout",
     "output_type": "stream",
     "text": [
      "Pattern found\n"
     ]
    }
   ],
   "source": [
    "import re\n",
    "if(re.search(r\"Air\",\"Airline\")!=None):\n",
    "    print(\"Pattern found\")\n",
    "else:\n",
    "    print(\"Pattern not found\")"
   ]
  },
  {
   "cell_type": "markdown",
   "metadata": {},
   "source": [
    "#### To search the pattern having two characters in between A and l in the given string \"Aopline\" "
   ]
  },
  {
   "cell_type": "code",
   "execution_count": 2,
   "metadata": {},
   "outputs": [
    {
     "name": "stdout",
     "output_type": "stream",
     "text": [
      "Pattern found\n"
     ]
    }
   ],
   "source": [
    "import re\n",
    "if(re.search(r\"A..l\",\"Aopline\")!=None):\n",
    "    print(\"Pattern found\")\n",
    "else:\n",
    "    print(\"Pattern not found\")"
   ]
  },
  {
   "cell_type": "markdown",
   "metadata": {},
   "source": [
    "#### To search for a digit between A and l in the given string \"A2line\" "
   ]
  },
  {
   "cell_type": "code",
   "execution_count": 3,
   "metadata": {},
   "outputs": [
    {
     "name": "stdout",
     "output_type": "stream",
     "text": [
      "Pattern found\n"
     ]
    }
   ],
   "source": [
    "import re\n",
    "if(re.search(r\"A\\dl\",\"A2line\")!=None):\n",
    "    print(\"Pattern found\")\n",
    "else:\n",
    "    print(\"Pattern not found\")"
   ]
  },
  {
   "cell_type": "markdown",
   "metadata": {},
   "source": [
    "#### To search for a number between 4 and 8 in between A and l in the given string. "
   ]
  },
  {
   "cell_type": "code",
   "execution_count": 4,
   "metadata": {},
   "outputs": [
    {
     "name": "stdout",
     "output_type": "stream",
     "text": [
      "Pattern not found\n"
     ]
    }
   ],
   "source": [
    "import re\n",
    "if(re.search(r\"A[4-8]l\",\"A2line\")!=None):\n",
    "    print(\"Pattern found\")\n",
    "else:\n",
    "    print(\"Pattern not found\")"
   ]
  },
  {
   "cell_type": "markdown",
   "metadata": {},
   "source": [
    "#### To search for the pattern \"Hell\" or \"Fell\" in the given string \"Fellow\"."
   ]
  },
  {
   "cell_type": "code",
   "execution_count": 5,
   "metadata": {},
   "outputs": [
    {
     "name": "stdout",
     "output_type": "stream",
     "text": [
      "Pattern found\n"
     ]
    }
   ],
   "source": [
    "import re\n",
    "if(re.search(r\"Hell|Fell\",\"Fellow\")!=None):\n",
    "    print(\"Pattern found\")\n",
    "else:\n",
    "    print(\"Pattern not found\")"
   ]
  },
  {
   "cell_type": "markdown",
   "metadata": {},
   "source": [
    "#### To check for the space after \"Air\" in the given string \"Airline\"."
   ]
  },
  {
   "cell_type": "code",
   "execution_count": 6,
   "metadata": {},
   "outputs": [
    {
     "name": "stdout",
     "output_type": "stream",
     "text": [
      "Pattern not found\n"
     ]
    }
   ],
   "source": [
    "import re\n",
    "if(re.search(r\"Air\\s\",\"Airline\")!=None):\n",
    "    print(\"Pattern found\")\n",
    "else:\n",
    "    print(\"Pattern not found\")"
   ]
  },
  {
   "cell_type": "markdown",
   "metadata": {},
   "source": [
    "#### To check if a number is found 0 or n times after A in the given string"
   ]
  },
  {
   "cell_type": "code",
   "execution_count": 7,
   "metadata": {},
   "outputs": [
    {
     "name": "stdout",
     "output_type": "stream",
     "text": [
      "Pattern found\n"
     ]
    }
   ],
   "source": [
    "import re\n",
    "if(re.search(r\"A\\d*\",\"A2234line\")!=None):\n",
    "    print(\"Pattern found\")\n",
    "else:\n",
    "    print(\"Pattern not found\")"
   ]
  },
  {
   "cell_type": "markdown",
   "metadata": {},
   "source": [
    "#### To check if a number is found 1 or n times after A in the given string."
   ]
  },
  {
   "cell_type": "code",
   "execution_count": 8,
   "metadata": {},
   "outputs": [
    {
     "name": "stdout",
     "output_type": "stream",
     "text": [
      "Pattern not found\n"
     ]
    }
   ],
   "source": [
    "import re\n",
    "if(re.search(r\"A\\d+\",\"Airline\")!=None):\n",
    "    print(\"Pattern found\")\n",
    "else:\n",
    "    print(\"Pattern not found\")"
   ]
  },
  {
   "cell_type": "markdown",
   "metadata": {},
   "source": [
    "#### To check if a number is found 0 or 1 times after A in the given string"
   ]
  },
  {
   "cell_type": "code",
   "execution_count": 9,
   "metadata": {},
   "outputs": [
    {
     "name": "stdout",
     "output_type": "stream",
     "text": [
      "Pattern found\n"
     ]
    }
   ],
   "source": [
    "import re\n",
    "if(re.search(r\"A\\d?i\",\"Airline\")!=None):\n",
    "    print(\"Pattern found\")\n",
    "else:\n",
    "    print(\"Pattern not found\")"
   ]
  },
  {
   "cell_type": "markdown",
   "metadata": {},
   "source": [
    "#### To check if 3 digits are present after A in the given string"
   ]
  },
  {
   "cell_type": "code",
   "execution_count": 10,
   "metadata": {},
   "outputs": [
    {
     "name": "stdout",
     "output_type": "stream",
     "text": [
      "Pattern found\n"
     ]
    }
   ],
   "source": [
    "import re\n",
    "if(re.search(r\"A\\d{3}i\",\"A223irline\")!=None):\n",
    "    print(\"Pattern found\")\n",
    "else:\n",
    "    print(\"Pattern not found\")"
   ]
  },
  {
   "cell_type": "markdown",
   "metadata": {},
   "source": [
    "#### To check if the given string is starting with A"
   ]
  },
  {
   "cell_type": "code",
   "execution_count": 11,
   "metadata": {},
   "outputs": [
    {
     "name": "stdout",
     "output_type": "stream",
     "text": [
      "Pattern found\n"
     ]
    }
   ],
   "source": [
    "import re\n",
    "if(re.search(r\"^A\",\"Airline\")!=None):\n",
    "    print(\"Pattern found\")\n",
    "else:\n",
    "    print(\"Pattern not found\")"
   ]
  },
  {
   "cell_type": "markdown",
   "metadata": {},
   "source": [
    "#### To check if the given string is ending with e."
   ]
  },
  {
   "cell_type": "code",
   "execution_count": 12,
   "metadata": {},
   "outputs": [
    {
     "name": "stdout",
     "output_type": "stream",
     "text": [
      "Pattern found\n"
     ]
    }
   ],
   "source": [
    "import re\n",
    "if(re.search(r\"e$\",\"Airline\")!=None):\n",
    "    print(\"Pattern found\")\n",
    "else:\n",
    "    print(\"Pattern not found\")"
   ]
  },
  {
   "cell_type": "markdown",
   "metadata": {},
   "source": [
    "#### To check whether last character is alphanumeric or not"
   ]
  },
  {
   "cell_type": "code",
   "execution_count": 13,
   "metadata": {},
   "outputs": [
    {
     "name": "stdout",
     "output_type": "stream",
     "text": [
      "Pattern not found\n"
     ]
    }
   ],
   "source": [
    "import re\n",
    "if(re.search(r\"\\w$\",\"Airline%\")!=None):\n",
    "    print(\"Pattern found\")\n",
    "else:\n",
    "    print(\"Pattern not found\")"
   ]
  },
  {
   "cell_type": "markdown",
   "metadata": {},
   "source": [
    "## Replacing number"
   ]
  },
  {
   "cell_type": "markdown",
   "metadata": {},
   "source": [
    "#### To replace the word \"Flight\" with the word \"Plane\""
   ]
  },
  {
   "cell_type": "code",
   "execution_count": 15,
   "metadata": {},
   "outputs": [
    {
     "name": "stdout",
     "output_type": "stream",
     "text": [
      "Plane Savana Airlines a2134\n"
     ]
    }
   ],
   "source": [
    "import re\n",
    "flight_details=\"Flight Savana Airlines a2134\"\n",
    "print(re.sub(r\"Flight\",r\"Plane\",flight_details))"
   ]
  },
  {
   "cell_type": "markdown",
   "metadata": {},
   "source": [
    "#### To replace the ‘a’ to ‘A’ if it is followed by 4 numbers"
   ]
  },
  {
   "cell_type": "code",
   "execution_count": 16,
   "metadata": {},
   "outputs": [
    {
     "name": "stdout",
     "output_type": "stream",
     "text": [
      "Flight Savana Airlines A2134\n"
     ]
    }
   ],
   "source": [
    "import re\n",
    "flight_details=\"Flight Savana Airlines a2134\"\n",
    "print(re.sub(r\"a(\\d{4})\",r\"A\\1\",flight_details))"
   ]
  },
  {
   "cell_type": "code",
   "execution_count": 17,
   "metadata": {},
   "outputs": [
    {
     "name": "stdout",
     "output_type": "stream",
     "text": [
      "Match Found: Airlines\n",
      "Match Found: a2138\n",
      "Match Found: Message starts with 'F'\n",
      "Match Found: Word starts with F and two consecutive characters\n",
      "Match Not Found\n",
      "Match Found: Message ends with number\n",
      "Word replaced in the message:\n",
      "Plane Savana Airlines a2138\n",
      "Word replaced in the message:\n",
      "Flight Savana Airlines A2138\n"
     ]
    }
   ],
   "source": [
    "import re\n",
    "\n",
    "flight_details=\"Flight Savana Airlines a2138\"\n",
    "\n",
    "if(re.search(r\"Airlines\",flight_details)!=None):\n",
    "    print(\"Match Found: Airlines\")\n",
    "else:\n",
    "    print(\"Match Not Found\")\n",
    "\n",
    "if(re.search(r\"a2138$\",flight_details)!=None):\n",
    "    print(\"Match Found: a2138\")\n",
    "else:\n",
    "    print(\"Match Not Found\")\n",
    "\n",
    "if(re.search(r\"^F\",flight_details)!=None):\n",
    "    print(\"Match Found: Message starts with 'F'\")\n",
    "else:\n",
    "    print(\"Match Not Found\")\n",
    "\n",
    "\n",
    "if(re.search(r\"F..\",flight_details)!=None):\n",
    "    print(\"Match Found: Word starts with F and two consecutive characters\")\n",
    "else:\n",
    "    print(\"Match Not Found\")\n",
    "\n",
    "if(re.search(r\"\\bSav\\b\",flight_details)!=None):\n",
    "    print(\"Match Found:Word with blank spaces on both sides\")\n",
    "else:\n",
    "    print(\"Match Not Found\")\n",
    "\n",
    "if(re.search(r\"\\d$\",flight_details)!=None):\n",
    "    print(\"Match Found: Message ends with number\")\n",
    "else:\n",
    "    print(\"Match Not Found\")\n",
    "\n",
    "print(\"Word replaced in the message:\")\n",
    "print(re.sub(r\"Flight\",\"Plane\",flight_details))\n",
    "print(\"Word replaced in the message:\")\n",
    "print(re.sub(r\"a(\\d{4})\",r\"A\\1\",flight_details))\n",
    "                                          "
   ]
  },
  {
   "cell_type": "markdown",
   "metadata": {},
   "source": [
    "## Lambda  Function"
   ]
  },
  {
   "cell_type": "code",
   "execution_count": 18,
   "metadata": {},
   "outputs": [
    {
     "name": "stdout",
     "output_type": "stream",
     "text": [
      "80\n",
      "120\n",
      "True\n",
      "The number is greater than 10\n",
      "13\n"
     ]
    }
   ],
   "source": [
    "import math\n",
    "g = lambda x,y:x*(x+y)\n",
    "print(g(8,2))\n",
    "\n",
    "s = lambda x:math.factorial(x)\n",
    "print(s(5))\n",
    "\n",
    "h = lambda x: x >40 and x< 50\n",
    "print(h(45))\n",
    "\n",
    "k = lambda x: x>10\n",
    "if (k(50)):\n",
    "    print(\"The number is greater than 10\")\n",
    "else:\n",
    "    print(\"The number is less than 10\")\n",
    "\n",
    "m=lambda x,y,z : x+y\n",
    "print(m(1,2,3)+ g(2,3))\n",
    "                                          "
   ]
  },
  {
   "cell_type": "code",
   "execution_count": null,
   "metadata": {},
   "outputs": [],
   "source": []
  }
 ],
 "metadata": {
  "kernelspec": {
   "display_name": "Python 3",
   "language": "python",
   "name": "python3"
  },
  "language_info": {
   "codemirror_mode": {
    "name": "ipython",
    "version": 3
   },
   "file_extension": ".py",
   "mimetype": "text/x-python",
   "name": "python",
   "nbconvert_exporter": "python",
   "pygments_lexer": "ipython3",
   "version": "3.7.3"
  }
 },
 "nbformat": 4,
 "nbformat_minor": 2
}
